{
 "cells": [
  {
   "cell_type": "code",
   "execution_count": null,
   "metadata": {},
   "outputs": [],
   "source": [
    "class Motor:\n",
    "    def __init__(self, tipo, potencia):\n",
    "        self.tipo = tipo\n",
    "        self.potencia = potencia\n",
    "\n",
    "class Carro:\n",
    "    def __init__(self, motor):\n",
    "        self.motor = motor\n",
    "\n",
    "motor_gasolina = Motor(\"Gasolina\", 150)\n",
    "\n",
    "\n",
    "meu_carro = Carro(motor_gasolina)\n",
    "\n",
    "\n",
    "print(meu_carro.motor.tipo)       \n",
    "print(meu_carro.motor.potencia)  "
   ]
  }
 ],
 "metadata": {
  "language_info": {
   "name": "python"
  },
  "orig_nbformat": 4
 },
 "nbformat": 4,
 "nbformat_minor": 2
}
